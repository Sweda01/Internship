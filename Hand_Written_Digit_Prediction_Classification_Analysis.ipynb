{
  "cells": [
    {
      "cell_type": "markdown",
      "source": [
        "**Hand Written Digit Prediction**-**Classification Analysis**\n",
        "  \n",
        "The digit dataset consists of 8*8 pixels images of *digits*.The images attribute of the dataset stores 8*8 arrays of grayscale values for each image. We will use these images to visualize. The target attribute of the dataset stores the digit each image represents.\n",
        "\n"
      ],
      "metadata": {
        "id": "CsRLBv0s-Cgw"
      },
      "id": "CsRLBv0s-Cgw"
    },
    {
      "cell_type": "markdown",
      "id": "59cc3c2b",
      "metadata": {
        "id": "59cc3c2b"
      },
      "source": [
        "# Import Library"
      ]
    },
    {
      "cell_type": "code",
      "execution_count": 1,
      "id": "623a39e4",
      "metadata": {
        "id": "623a39e4"
      },
      "outputs": [],
      "source": [
        "import pandas as pd"
      ]
    },
    {
      "cell_type": "code",
      "execution_count": 2,
      "id": "95b2f8a3",
      "metadata": {
        "id": "95b2f8a3"
      },
      "outputs": [],
      "source": [
        "import numpy as np"
      ]
    },
    {
      "cell_type": "code",
      "execution_count": 3,
      "id": "faf67c9d",
      "metadata": {
        "id": "faf67c9d"
      },
      "outputs": [],
      "source": [
        "import matplotlib.pyplot as plt"
      ]
    },
    {
      "cell_type": "markdown",
      "id": "4a5e2032",
      "metadata": {
        "id": "4a5e2032"
      },
      "source": [
        "# Import Data"
      ]
    },
    {
      "cell_type": "code",
      "execution_count": 4,
      "id": "abadce61",
      "metadata": {
        "id": "abadce61"
      },
      "outputs": [],
      "source": [
        "from sklearn.datasets import load_digits"
      ]
    },
    {
      "cell_type": "code",
      "execution_count": 5,
      "id": "51796732",
      "metadata": {
        "id": "51796732"
      },
      "outputs": [],
      "source": [
        "df = load_digits()"
      ]
    },
    {
      "cell_type": "code",
      "execution_count": 6,
      "id": "28787317",
      "metadata": {
        "colab": {
          "base_uri": "https://localhost:8080/",
          "height": 227
        },
        "id": "28787317",
        "outputId": "43426a90-b8af-467d-cbb0-7c7a7a0deffb"
      },
      "outputs": [
        {
          "output_type": "display_data",
          "data": {
            "text/plain": [
              "<Figure size 1000x300 with 4 Axes>"
            ],
            "image/png": "[encoded data removed]"
          },
          "metadata": {}
        }
      ],
      "source": [
        "_, axes = plt.subplots(nrows = 1, ncols = 4, figsize = (10, 3))\n",
        "for ax, image, label in zip(axes, df.images, df.target):\n",
        "    ax.set_axis_off()\n",
        "    ax.imshow(image, cmap=plt.cm.gray_r, interpolation = 'nearest')\n",
        "    ax.set_title('Training: %i' % label)"
      ]
    },
    {
      "cell_type": "markdown",
      "id": "afd0d7e5",
      "metadata": {
        "id": "afd0d7e5"
      },
      "source": [
        "# Data Preprocessing\n",
        "##### Flatten Image"
      ]
    },
    {
      "cell_type": "code",
      "execution_count": 7,
      "id": "1b8b097d",
      "metadata": {
        "colab": {
          "base_uri": "https://localhost:8080/"
        },
        "id": "1b8b097d",
        "outputId": "27553613-5484-4619-b6b7-5de5466e2d96"
      },
      "outputs": [
        {
          "output_type": "execute_result",
          "data": {
            "text/plain": [
              "(1797, 8, 8)"
            ]
          },
          "metadata": {},
          "execution_count": 7
        }
      ],
      "source": [
        "df.images.shape"
      ]
    },
    {
      "cell_type": "code",
      "execution_count": 8,
      "id": "d8b315ad",
      "metadata": {
        "colab": {
          "base_uri": "https://localhost:8080/"
        },
        "id": "d8b315ad",
        "outputId": "d76b1c65-1583-44d0-f227-58e694a29b31"
      },
      "outputs": [
        {
          "output_type": "execute_result",
          "data": {
            "text/plain": [
              "array([[ 0.,  0.,  5., 13.,  9.,  1.,  0.,  0.],\n",
              "       [ 0.,  0., 13., 15., 10., 15.,  5.,  0.],\n",
              "       [ 0.,  3., 15.,  2.,  0., 11.,  8.,  0.],\n",
              "       [ 0.,  4., 12.,  0.,  0.,  8.,  8.,  0.],\n",
              "       [ 0.,  5.,  8.,  0.,  0.,  9.,  8.,  0.],\n",
              "       [ 0.,  4., 11.,  0.,  1., 12.,  7.,  0.],\n",
              "       [ 0.,  2., 14.,  5., 10., 12.,  0.,  0.],\n",
              "       [ 0.,  0.,  6., 13., 10.,  0.,  0.,  0.]])"
            ]
          },
          "metadata": {},
          "execution_count": 8
        }
      ],
      "source": [
        "df.images[0]"
      ]
    },
    {
      "cell_type": "code",
      "execution_count": 9,
      "id": "0732a722",
      "metadata": {
        "colab": {
          "base_uri": "https://localhost:8080/"
        },
        "id": "0732a722",
        "outputId": "1f45e5eb-3894-4c28-aff6-15732d0b8990"
      },
      "outputs": [
        {
          "output_type": "execute_result",
          "data": {
            "text/plain": [
              "(8, 8)"
            ]
          },
          "metadata": {},
          "execution_count": 9
        }
      ],
      "source": [
        "df.images[0].shape"
      ]
    },
    {
      "cell_type": "code",
      "execution_count": 10,
      "id": "874251bc",
      "metadata": {
        "id": "874251bc"
      },
      "outputs": [],
      "source": [
        "n_samples = len(df.images)\n",
        "data = df.images.reshape((n_samples, -1))"
      ]
    },
    {
      "cell_type": "code",
      "execution_count": 11,
      "id": "4de06991",
      "metadata": {
        "colab": {
          "base_uri": "https://localhost:8080/"
        },
        "id": "4de06991",
        "outputId": "d0336c85-4aef-4eb8-fd5e-3ba41897fe24"
      },
      "outputs": [
        {
          "output_type": "execute_result",
          "data": {
            "text/plain": [
              "array([ 0.,  0.,  5., 13.,  9.,  1.,  0.,  0.,  0.,  0., 13., 15., 10.,\n",
              "       15.,  5.,  0.,  0.,  3., 15.,  2.,  0., 11.,  8.,  0.,  0.,  4.,\n",
              "       12.,  0.,  0.,  8.,  8.,  0.,  0.,  5.,  8.,  0.,  0.,  9.,  8.,\n",
              "        0.,  0.,  4., 11.,  0.,  1., 12.,  7.,  0.,  0.,  2., 14.,  5.,\n",
              "       10., 12.,  0.,  0.,  0.,  0.,  6., 13., 10.,  0.,  0.,  0.])"
            ]
          },
          "metadata": {},
          "execution_count": 11
        }
      ],
      "source": [
        "data[0]"
      ]
    },
    {
      "cell_type": "code",
      "execution_count": 12,
      "id": "59e2aa86",
      "metadata": {
        "colab": {
          "base_uri": "https://localhost:8080/"
        },
        "id": "59e2aa86",
        "outputId": "76754611-6bb3-45dd-d01d-897c03bed816"
      },
      "outputs": [
        {
          "output_type": "execute_result",
          "data": {
            "text/plain": [
              "(64,)"
            ]
          },
          "metadata": {},
          "execution_count": 12
        }
      ],
      "source": [
        "data[0].shape"
      ]
    },
    {
      "cell_type": "code",
      "execution_count": 13,
      "id": "4bcc51e5",
      "metadata": {
        "colab": {
          "base_uri": "https://localhost:8080/"
        },
        "id": "4bcc51e5",
        "outputId": "7b6dd3c1-f532-44ea-969f-51198dd5274b"
      },
      "outputs": [
        {
          "output_type": "execute_result",
          "data": {
            "text/plain": [
              "(1797, 64)"
            ]
          },
          "metadata": {},
          "execution_count": 13
        }
      ],
      "source": [
        "data.shape"
      ]
    },
    {
      "cell_type": "markdown",
      "id": "2596a62d",
      "metadata": {
        "id": "2596a62d"
      },
      "source": [
        "# Scaling Data"
      ]
    },
    {
      "cell_type": "code",
      "execution_count": 14,
      "id": "c5cc7c78",
      "metadata": {
        "colab": {
          "base_uri": "https://localhost:8080/"
        },
        "id": "c5cc7c78",
        "outputId": "6e0491e6-a294-42b1-f5d5-8b3e8a637d4d"
      },
      "outputs": [
        {
          "output_type": "execute_result",
          "data": {
            "text/plain": [
              "0.0"
            ]
          },
          "metadata": {},
          "execution_count": 14
        }
      ],
      "source": [
        "data.min()"
      ]
    },
    {
      "cell_type": "code",
      "execution_count": 15,
      "id": "3859d9fd",
      "metadata": {
        "colab": {
          "base_uri": "https://localhost:8080/"
        },
        "id": "3859d9fd",
        "outputId": "6053e769-b1db-48ef-bf76-250fcc466f55"
      },
      "outputs": [
        {
          "output_type": "execute_result",
          "data": {
            "text/plain": [
              "16.0"
            ]
          },
          "metadata": {},
          "execution_count": 15
        }
      ],
      "source": [
        "data.max()"
      ]
    },
    {
      "cell_type": "code",
      "execution_count": 16,
      "id": "0f55a97e",
      "metadata": {
        "id": "0f55a97e"
      },
      "outputs": [],
      "source": [
        "data = data/16"
      ]
    },
    {
      "cell_type": "code",
      "execution_count": 17,
      "id": "61c9cc6a",
      "metadata": {
        "colab": {
          "base_uri": "https://localhost:8080/"
        },
        "id": "61c9cc6a",
        "outputId": "abccdeb6-b253-4fc1-c144-2a0dd4b05897"
      },
      "outputs": [
        {
          "output_type": "execute_result",
          "data": {
            "text/plain": [
              "0.0"
            ]
          },
          "metadata": {},
          "execution_count": 17
        }
      ],
      "source": [
        "data.min()"
      ]
    },
    {
      "cell_type": "code",
      "execution_count": 18,
      "id": "c3b7bc5a",
      "metadata": {
        "scrolled": true,
        "colab": {
          "base_uri": "https://localhost:8080/"
        },
        "id": "c3b7bc5a",
        "outputId": "9a0489f7-a965-4481-d920-e5cd8b58dfca"
      },
      "outputs": [
        {
          "output_type": "execute_result",
          "data": {
            "text/plain": [
              "1.0"
            ]
          },
          "metadata": {},
          "execution_count": 18
        }
      ],
      "source": [
        "data.max()"
      ]
    },
    {
      "cell_type": "code",
      "execution_count": 19,
      "id": "647a3e12",
      "metadata": {
        "colab": {
          "base_uri": "https://localhost:8080/"
        },
        "id": "647a3e12",
        "outputId": "5c7665ea-6642-43a6-8db6-c1348b4c5d36"
      },
      "outputs": [
        {
          "output_type": "execute_result",
          "data": {
            "text/plain": [
              "array([0.    , 0.    , 0.3125, 0.8125, 0.5625, 0.0625, 0.    , 0.    ,\n",
              "       0.    , 0.    , 0.8125, 0.9375, 0.625 , 0.9375, 0.3125, 0.    ,\n",
              "       0.    , 0.1875, 0.9375, 0.125 , 0.    , 0.6875, 0.5   , 0.    ,\n",
              "       0.    , 0.25  , 0.75  , 0.    , 0.    , 0.5   , 0.5   , 0.    ,\n",
              "       0.    , 0.3125, 0.5   , 0.    , 0.    , 0.5625, 0.5   , 0.    ,\n",
              "       0.    , 0.25  , 0.6875, 0.    , 0.0625, 0.75  , 0.4375, 0.    ,\n",
              "       0.    , 0.125 , 0.875 , 0.3125, 0.625 , 0.75  , 0.    , 0.    ,\n",
              "       0.    , 0.    , 0.375 , 0.8125, 0.625 , 0.    , 0.    , 0.    ])"
            ]
          },
          "metadata": {},
          "execution_count": 19
        }
      ],
      "source": [
        "data[0]"
      ]
    },
    {
      "cell_type": "markdown",
      "id": "3eca0bdd",
      "metadata": {
        "id": "3eca0bdd"
      },
      "source": [
        "# Train test split Data"
      ]
    },
    {
      "cell_type": "code",
      "execution_count": 20,
      "id": "5ae781bc",
      "metadata": {
        "id": "5ae781bc"
      },
      "outputs": [],
      "source": [
        "from sklearn.model_selection import train_test_split"
      ]
    },
    {
      "cell_type": "code",
      "execution_count": 21,
      "id": "616cd7f8",
      "metadata": {
        "id": "616cd7f8"
      },
      "outputs": [],
      "source": [
        "xtrain, xtest, ytrain, ytest = train_test_split(data, df.target, test_size = 0.3)"
      ]
    },
    {
      "cell_type": "code",
      "execution_count": 22,
      "id": "4a4005c5",
      "metadata": {
        "colab": {
          "base_uri": "https://localhost:8080/"
        },
        "id": "4a4005c5",
        "outputId": "f64dc644-912f-4bd4-8b67-f82d16be5c4a"
      },
      "outputs": [
        {
          "output_type": "execute_result",
          "data": {
            "text/plain": [
              "((1257, 64), (540, 64), (1257,), (540,))"
            ]
          },
          "metadata": {},
          "execution_count": 22
        }
      ],
      "source": [
        "xtrain.shape, xtest.shape, ytrain.shape, ytest.shape"
      ]
    },
    {
      "cell_type": "markdown",
      "id": "def560b5",
      "metadata": {
        "id": "def560b5"
      },
      "source": [
        "# Random Forest model"
      ]
    },
    {
      "cell_type": "code",
      "execution_count": 23,
      "id": "44b0a974",
      "metadata": {
        "id": "44b0a974"
      },
      "outputs": [],
      "source": [
        "from sklearn.ensemble import RandomForestClassifier"
      ]
    },
    {
      "cell_type": "code",
      "execution_count": 24,
      "id": "274cf735",
      "metadata": {
        "id": "274cf735"
      },
      "outputs": [],
      "source": [
        "rf = RandomForestClassifier()"
      ]
    },
    {
      "cell_type": "code",
      "execution_count": 25,
      "id": "ae8ba976",
      "metadata": {
        "colab": {
          "base_uri": "https://localhost:8080/",
          "height": 74
        },
        "id": "ae8ba976",
        "outputId": "4889842e-f23a-43ae-f3c8-6a1d66b661a4"
      },
      "outputs": [
        {
          "output_type": "execute_result",
          "data": {
            "text/plain": [
              "RandomForestClassifier()"
            ],
            "text/html": [
              "<style>#sk-container-id-1 {color: black;}#sk-container-id-1 pre{padding: 0;}#sk-container-id-1 div.sk-toggleable {background-color: white;}#sk-container-id-1 label.sk-toggleable__label {cursor: pointer;display: block;width: 100%;margin-bottom: 0;padding: 0.3em;box-sizing: border-box;text-align: center;}#sk-container-id-1 label.sk-toggleable__label-arrow:before {content: \"▸\";float: left;margin-right: 0.25em;color: #696969;}#sk-container-id-1 label.sk-toggleable__label-arrow:hover:before {color: black;}#sk-container-id-1 div.sk-estimator:hover label.sk-toggleable__label-arrow:before {color: black;}#sk-container-id-1 div.sk-toggleable__content {max-height: 0;max-width: 0;overflow: hidden;text-align: left;background-color: #f0f8ff;}#sk-container-id-1 div.sk-toggleable__content pre {margin: 0.2em;color: black;border-radius: 0.25em;background-color: #f0f8ff;}#sk-container-id-1 input.sk-toggleable__control:checked~div.sk-toggleable__content {max-height: 200px;max-width: 100%;overflow: auto;}#sk-container-id-1 input.sk-toggleable__control:checked~label.sk-toggleable__label-arrow:before {content: \"▾\";}#sk-container-id-1 div.sk-estimator input.sk-toggleable__control:checked~label.sk-toggleable__label {background-color: #d4ebff;}#sk-container-id-1 div.sk-label input.sk-toggleable__control:checked~label.sk-toggleable__label {background-color: #d4ebff;}#sk-container-id-1 input.sk-hidden--visually {border: 0;clip: rect(1px 1px 1px 1px);clip: rect(1px, 1px, 1px, 1px);height: 1px;margin: -1px;overflow: hidden;padding: 0;position: absolute;width: 1px;}#sk-container-id-1 div.sk-estimator {font-family: monospace;background-color: #f0f8ff;border: 1px dotted black;border-radius: 0.25em;box-sizing: border-box;margin-bottom: 0.5em;}#sk-container-id-1 div.sk-estimator:hover {background-color: #d4ebff;}#sk-container-id-1 div.sk-parallel-item::after {content: \"\";width: 100%;border-bottom: 1px solid gray;flex-grow: 1;}#sk-container-id-1 div.sk-label:hover label.sk-toggleable__label {background-color: #d4ebff;}#sk-container-id-1 div.sk-serial::before {content: \"\";position: absolute;border-left: 1px solid gray;box-sizing: border-box;top: 0;bottom: 0;left: 50%;z-index: 0;}#sk-container-id-1 div.sk-serial {display: flex;flex-direction: column;align-items: center;background-color: white;padding-right: 0.2em;padding-left: 0.2em;position: relative;}#sk-container-id-1 div.sk-item {position: relative;z-index: 1;}#sk-container-id-1 div.sk-parallel {display: flex;align-items: stretch;justify-content: center;background-color: white;position: relative;}#sk-container-id-1 div.sk-item::before, #sk-container-id-1 div.sk-parallel-item::before {content: \"\";position: absolute;border-left: 1px solid gray;box-sizing: border-box;top: 0;bottom: 0;left: 50%;z-index: -1;}#sk-container-id-1 div.sk-parallel-item {display: flex;flex-direction: column;z-index: 1;position: relative;background-color: white;}#sk-container-id-1 div.sk-parallel-item:first-child::after {align-self: flex-end;width: 50%;}#sk-container-id-1 div.sk-parallel-item:last-child::after {align-self: flex-start;width: 50%;}#sk-container-id-1 div.sk-parallel-item:only-child::after {width: 0;}#sk-container-id-1 div.sk-dashed-wrapped {border: 1px dashed gray;margin: 0 0.4em 0.5em 0.4em;box-sizing: border-box;padding-bottom: 0.4em;background-color: white;}#sk-container-id-1 div.sk-label label {font-family: monospace;font-weight: bold;display: inline-block;line-height: 1.2em;}#sk-container-id-1 div.sk-label-container {text-align: center;}#sk-container-id-1 div.sk-container {/* jupyter's `normalize.less` sets `[hidden] { display: none; }` but bootstrap.min.css set `[hidden] { display: none !important; }` so we also need the `!important` here to be able to override the default hidden behavior on the sphinx rendered scikit-learn.org. See: https://github.com/scikit-learn/scikit-learn/issues/21755 */display: inline-block !important;position: relative;}#sk-container-id-1 div.sk-text-repr-fallback {display: none;}</style><div id=\"sk-container-id-1\" class=\"sk-top-container\"><div class=\"sk-text-repr-fallback\"><pre>RandomForestClassifier()</pre><b>In a Jupyter environment, please rerun this cell to show the HTML representation or trust the notebook. <br />On GitHub, the HTML representation is unable to render, please try loading this page with nbviewer.org.</b></div><div class=\"sk-container\" hidden><div class=\"sk-item\"><div class=\"sk-estimator sk-toggleable\"><input class=\"sk-toggleable__control sk-hidden--visually\" id=\"sk-estimator-id-1\" type=\"checkbox\" checked><label for=\"sk-estimator-id-1\" class=\"sk-toggleable__label sk-toggleable__label-arrow\">RandomForestClassifier</label><div class=\"sk-toggleable__content\"><pre>RandomForestClassifier()</pre></div></div></div></div></div>"
            ]
          },
          "metadata": {},
          "execution_count": 25
        }
      ],
      "source": [
        "rf.fit(xtrain, ytrain)"
      ]
    },
    {
      "cell_type": "markdown",
      "id": "15698545",
      "metadata": {
        "id": "15698545"
      },
      "source": [
        "# Predict Test Data"
      ]
    },
    {
      "cell_type": "code",
      "execution_count": 26,
      "id": "820ac373",
      "metadata": {
        "id": "820ac373"
      },
      "outputs": [],
      "source": [
        "y_pred = rf.predict(xtest)"
      ]
    },
    {
      "cell_type": "code",
      "execution_count": 27,
      "id": "98d612d7",
      "metadata": {
        "colab": {
          "base_uri": "https://localhost:8080/"
        },
        "id": "98d612d7",
        "outputId": "eebde0fa-83ae-414a-c182-e3f0ba788a8a"
      },
      "outputs": [
        {
          "output_type": "execute_result",
          "data": {
            "text/plain": [
              "array([4, 6, 3, 5, 5, 1, 6, 7, 8, 1, 3, 8, 3, 2, 3, 7, 2, 3, 7, 6, 7, 1,\n",
              "       7, 6, 6, 7, 3, 5, 7, 3, 4, 3, 8, 0, 7, 0, 5, 3, 1, 8, 6, 1, 5, 3,\n",
              "       8, 1, 5, 6, 3, 2, 2, 4, 8, 6, 7, 1, 3, 4, 5, 5, 9, 0, 5, 0, 3, 3,\n",
              "       0, 4, 6, 1, 3, 2, 9, 2, 1, 5, 9, 9, 4, 6, 4, 7, 0, 8, 1, 7, 8, 1,\n",
              "       0, 7, 3, 9, 8, 0, 1, 7, 2, 8, 9, 3, 1, 7, 3, 9, 4, 6, 0, 1, 2, 3,\n",
              "       8, 8, 5, 9, 5, 3, 3, 7, 5, 1, 4, 3, 1, 2, 8, 3, 8, 4, 9, 8, 6, 2,\n",
              "       7, 8, 9, 4, 1, 2, 8, 2, 7, 4, 4, 8, 7, 1, 5, 7, 6, 4, 2, 4, 9, 7,\n",
              "       2, 1, 3, 8, 0, 9, 2, 4, 4, 4, 5, 5, 2, 4, 9, 9, 0, 6, 7, 4, 0, 2,\n",
              "       6, 4, 3, 7, 4, 2, 7, 5, 8, 1, 7, 5, 5, 6, 1, 0, 3, 6, 4, 8, 0, 9,\n",
              "       5, 0, 3, 1, 3, 4, 2, 0, 2, 8, 9, 4, 5, 9, 3, 0, 0, 1, 8, 6, 4, 5,\n",
              "       1, 2, 0, 8, 3, 4, 7, 6, 1, 4, 2, 1, 7, 0, 6, 2, 6, 3, 3, 4, 5, 8,\n",
              "       3, 2, 2, 6, 9, 3, 3, 5, 0, 0, 2, 3, 4, 0, 8, 5, 9, 8, 2, 9, 4, 9,\n",
              "       1, 7, 7, 6, 4, 7, 3, 2, 9, 6, 8, 3, 7, 3, 4, 3, 8, 5, 5, 4, 5, 2,\n",
              "       9, 9, 3, 9, 0, 2, 0, 2, 2, 1, 7, 7, 7, 2, 5, 5, 4, 8, 9, 8, 4, 3,\n",
              "       1, 6, 1, 0, 6, 7, 3, 8, 1, 3, 5, 0, 4, 7, 1, 5, 1, 7, 1, 3, 9, 3,\n",
              "       6, 6, 7, 0, 3, 5, 7, 6, 4, 5, 9, 8, 5, 4, 6, 9, 7, 5, 4, 9, 0, 8,\n",
              "       9, 8, 4, 9, 0, 3, 8, 4, 2, 8, 6, 5, 9, 0, 0, 0, 3, 1, 7, 5, 1, 7,\n",
              "       5, 1, 8, 3, 0, 8, 3, 5, 5, 3, 0, 5, 6, 0, 9, 2, 4, 1, 3, 0, 5, 6,\n",
              "       5, 7, 5, 5, 8, 1, 7, 1, 6, 6, 1, 3, 9, 2, 6, 7, 6, 1, 0, 6, 4, 9,\n",
              "       3, 2, 4, 3, 2, 8, 1, 0, 4, 6, 4, 3, 5, 5, 7, 5, 0, 9, 7, 7, 3, 8,\n",
              "       9, 6, 1, 8, 9, 0, 4, 2, 3, 6, 0, 8, 9, 0, 0, 9, 8, 3, 1, 3, 6, 1,\n",
              "       7, 7, 5, 0, 5, 7, 7, 6, 4, 0, 2, 9, 9, 4, 0, 4, 6, 9, 2, 1, 6, 4,\n",
              "       3, 4, 4, 5, 6, 8, 3, 0, 0, 8, 8, 3, 4, 2, 4, 5, 3, 4, 0, 9, 4, 5,\n",
              "       8, 5, 2, 1, 9, 1, 8, 1, 3, 5, 2, 2, 3, 1, 5, 4, 3, 5, 8, 5, 8, 8,\n",
              "       1, 2, 1, 5, 4, 5, 8, 1, 7, 2, 7, 7])"
            ]
          },
          "metadata": {},
          "execution_count": 27
        }
      ],
      "source": [
        "y_pred"
      ]
    },
    {
      "cell_type": "markdown",
      "id": "37bd5215",
      "metadata": {
        "id": "37bd5215"
      },
      "source": [
        "# Model Accuracy"
      ]
    },
    {
      "cell_type": "code",
      "execution_count": 28,
      "id": "651bcf95",
      "metadata": {
        "id": "651bcf95"
      },
      "outputs": [],
      "source": [
        "from sklearn.metrics import confusion_matrix, classification_report"
      ]
    },
    {
      "cell_type": "code",
      "execution_count": 29,
      "id": "e89794b9",
      "metadata": {
        "colab": {
          "base_uri": "https://localhost:8080/"
        },
        "id": "e89794b9",
        "outputId": "424c73f2-576a-4792-dc0e-7be7790526bd"
      },
      "outputs": [
        {
          "output_type": "execute_result",
          "data": {
            "text/plain": [
              "array([[50,  0,  0,  0,  0,  0,  0,  0,  0,  0],\n",
              "       [ 0, 52,  0,  1,  0,  0,  0,  0,  0,  0],\n",
              "       [ 0,  0, 47,  0,  0,  0,  0,  0,  0,  0],\n",
              "       [ 0,  0,  0, 67,  0,  1,  0,  0,  0,  0],\n",
              "       [ 0,  0,  0,  0, 59,  0,  0,  0,  0,  0],\n",
              "       [ 0,  0,  0,  0,  0, 58,  0,  0,  0,  1],\n",
              "       [ 0,  0,  0,  0,  0,  1, 46,  0,  0,  0],\n",
              "       [ 0,  0,  0,  0,  0,  0,  0, 54,  1,  0],\n",
              "       [ 0,  1,  0,  0,  1,  1,  0,  0, 51,  1],\n",
              "       [ 0,  1,  0,  0,  0,  0,  0,  0,  2, 44]])"
            ]
          },
          "metadata": {},
          "execution_count": 29
        }
      ],
      "source": [
        "confusion_matrix(ytest, y_pred)"
      ]
    },
    {
      "cell_type": "code",
      "execution_count": 30,
      "id": "9b4d424b",
      "metadata": {
        "colab": {
          "base_uri": "https://localhost:8080/"
        },
        "id": "9b4d424b",
        "outputId": "1254173f-5a5d-4729-9ba3-f7c0b963f9c0"
      },
      "outputs": [
        {
          "output_type": "stream",
          "name": "stdout",
          "text": [
            "              precision    recall  f1-score   support\n",
            "\n",
            "           0       1.00      1.00      1.00        50\n",
            "           1       0.96      0.98      0.97        53\n",
            "           2       1.00      1.00      1.00        47\n",
            "           3       0.99      0.99      0.99        68\n",
            "           4       0.98      1.00      0.99        59\n",
            "           5       0.95      0.98      0.97        59\n",
            "           6       1.00      0.98      0.99        47\n",
            "           7       1.00      0.98      0.99        55\n",
            "           8       0.94      0.93      0.94        55\n",
            "           9       0.96      0.94      0.95        47\n",
            "\n",
            "    accuracy                           0.98       540\n",
            "   macro avg       0.98      0.98      0.98       540\n",
            "weighted avg       0.98      0.98      0.98       540\n",
            "\n"
          ]
        }
      ],
      "source": [
        "print(classification_report(ytest, y_pred))"
      ]
    },
    {
      "cell_type": "code",
      "execution_count": null,
      "id": "63ecb5ac",
      "metadata": {
        "id": "63ecb5ac"
      },
      "outputs": [],
      "source": []
    }
  ],
  "metadata": {
    "kernelspec": {
      "display_name": "Python 3 (ipykernel)",
      "language": "python",
      "name": "python3"
    },
    "language_info": {
      "codemirror_mode": {
        "name": "ipython",
        "version": 3
      },
      "file_extension": ".py",
      "mimetype": "text/x-python",
      "name": "python",
      "nbconvert_exporter": "python",
      "pygments_lexer": "ipython3",
      "version": "3.8.12"
    },
    "colab": {
      "provenance": []
    }
  },
  "nbformat": 4,
  "nbformat_minor": 5
}